{
 "cells": [
  {
   "cell_type": "markdown",
   "metadata": {
    "collapsed": false
   },
   "source": [
    "# Glavna koda\n",
    "V tem delu je zapisan prvi del kode, kjer bomo testirali grafe za določene velikosti.\n",
    "Koda je ravno tako opisana v [poročilu](https://github.com/mpracek/Graffiti-conjecture-194/blob/master/Porocilo/dolgo_porocilo.pdf)"
   ]
  },
  {
   "cell_type": "code",
   "execution_count": 42,
   "metadata": {
    "collapsed": false
   },
   "outputs": [
   ],
   "source": [
    "import random\n",
    "import operator\n",
    "import math\n",
    "\n",
    "def nasi_grafi(stevilo_vozlisc):\n",
    "    \"\"\"\n",
    "    Funkcija, ki nam vrne enostavne povezane grafe na dolocenem stevilu vozlisc.\n",
    "    \"\"\"\n",
    "    grafi = list(graphs.nauty_geng(str(stevilo_vozlisc)+\" -c\"))\n",
    "    return grafi\n",
    "\n",
    "def neodvisnostno_stevilo(G):\n",
    "    \"\"\"\n",
    "    Vrne neodvistno število grafa G\n",
    "    Za pomoc uporabimo independet_set() iz modula neusmerjenih grafov.\n",
    "    \"\"\"\n",
    "    neodvisno = G.independent_set()\n",
    "    dolzina = len(neodvisno)\n",
    "    return dolzina\n",
    "\n",
    "\n",
    "def naredi_podgraf(G, seznam):\n",
    "    \"\"\"\n",
    "    Funkcija, ki nam za dan seznam vozlisc vrne podgraf, definiran na le teh\n",
    "    Seznam je tukaj nabor vozlisc, ki nas zanimajo.\n",
    "    \"\"\"\n",
    "    H = Graph(G, immutable=True)\n",
    "    sosedi = []\n",
    "    for vozlisce in H:\n",
    "        nabor_sosedov = ()\n",
    "        if vozlisce in seznam:\n",
    "            for element in H[vozlisce]:\n",
    "                if element in seznam:\n",
    "                    a = list(nabor_sosedov)\n",
    "                    a.append([vozlisce, element])\n",
    "                    tuple(a)\n",
    "        sosedi.append(nabor_sosedov)\n",
    "    nov_graf = H.subgraph(vertices = seznam, edges = sosedi)\n",
    "    return nov_graf\n",
    "\n",
    "\n",
    "def lokalna_neodvisnost(G, vozlisce):\n",
    "    \"\"\"\n",
    "    Vrne lokalno neodvistnost grafa G v vozliscu v.\n",
    "    Lokalna neodvistnost je neodvistnost podgrafa, ki ga določajo sosedi vozlišča v,\n",
    "    za nek v iz množice vozlišč.\n",
    "    \"\"\"\n",
    "    mnozica = G[vozlisce]\n",
    "    novGraf = naredi_podgraf(G, mnozica)\n",
    "    lokalna = neodvisnostno_stevilo(novGraf)\n",
    "    return lokalna\n",
    "\n",
    "def povprecna(G):\n",
    "    \"\"\"\n",
    "    Vrne povprečno lokalno neodvisnost grafa G\n",
    "    \"\"\"\n",
    "    povprecje =  0\n",
    "    for vozlisce in G:\n",
    "        povprecje += lokalna_neodvisnost(G, vozlisce)\n",
    "    povprecna_vrednost  = povprecje/ len(G)\n",
    "    return povprecna_vrednost\n",
    "\n",
    "def preverjanje_za_en_graf(G):\n",
    "    \"\"\"\n",
    "    Preveri, ali za en graf velja, če je ta graf izjema.\n",
    "    \"\"\"\n",
    "    if neodvisnostno_stevilo(G) <= 1 + povprecna(G):\n",
    "            if G.hamiltonian_path() == None:\n",
    "                graf = str(G)\n",
    "                return \"Ovrgli smo domnevo in izjema je\" + \tgraf\n",
    "    else:\n",
    "        return \"Izjeme nismo ovrgli\"\n",
    "\n",
    "def preverjanje(stevilo_vozlisc):\n",
    "    \"\"\"\n",
    "    Preveri veljavnost konjekture za vse grafe na določenem številu vozlišč.\n",
    "    \"\"\"\n",
    "    for G in nasi_grafi(stevilo_vozlisc):\n",
    "        if neodvisnostno_stevilo(G) <= 1 + povprecna(G):\n",
    "            if G.hamiltonian_path() == None:\n",
    "                graf = str(G)\n",
    "                return \"Ovrgli smo domnevo in izjema je\" + \tgraf\n",
    "    return \"Izjeme nismo ovrgli\"\n"
   ]
  },
  {
   "cell_type": "code",
   "execution_count": 43,
   "metadata": {
    "collapsed": false
   },
   "outputs": [
   ],
   "source": [
    "prvi_test = preverjanje(4)\n"
   ]
  },
  {
   "cell_type": "markdown",
   "metadata": {
    "collapsed": false
   },
   "source": [
    "# Genetski algoritem\n",
    "Od tu naprej bodo vse funkcije bile uporabljene za definicijo [genetskega algoritma](https://en.wikipedia.org/wiki/Genetic_algorithm)."
   ]
  },
  {
   "cell_type": "code",
   "execution_count": 2,
   "metadata": {
    "collapsed": false
   },
   "outputs": [
   ],
   "source": [
    "def poisson(t = 1, lambd = 1/2):\n",
    "    \"\"\"\n",
    "    S to funkcijo določimo začetno stevilo vozlisc\n",
    "    \"\"\"\n",
    "    stevilo_vozlisc = 0\n",
    "    racunalo = 0\n",
    "    while racunalo < t:\n",
    "        stevilo_vozlisc += 1\n",
    "        racunalo += random.expovariate(lambd)\n",
    "    return stevilo_vozlisc\n"
   ]
  },
  {
   "cell_type": "code",
   "execution_count": 85,
   "metadata": {
    "collapsed": false
   },
   "outputs": [
   ],
   "source": [
    "def zacetna_populacija(maksimalna):\n",
    "    \"\"\"\n",
    "    Ta funkcija nam da grafe, na katerih bo opravljen prvi test.\n",
    "    Maksimalna nam pove, koliko je največja (maksimalna) velikost vsake generacije.\n",
    "    \"\"\"\n",
    "    stevilo_vozlisc = poisson(t = 5, lambd = 1/2)\n",
    "    populacija = []\n",
    "    stevec = 0\n",
    "    while stevec < maksimalna:\n",
    "        graf = graphs.RandomGNP(stevilo_vozlisc, random.uniform(0, 1))\n",
    "        if graf.is_connected():\n",
    "            populacija.append(graf)\n",
    "            stevec += 1\n",
    "    return populacija\n"
   ]
  },
  {
   "cell_type": "code",
   "execution_count": 48,
   "metadata": {
    "collapsed": false
   },
   "outputs": [
   ],
   "source": [
    "def razporedi(maksimalna=None):\n",
    "    \"\"\"\n",
    "    Izracuna kriterij, po katerem vse elemente razporedimo in razporedi elemente populacije.\n",
    "    Navadno za populacijo uporabimo zacetna_populacijo(maksimalna).\n",
    "    \"\"\"\n",
    "    slovar = dict()\n",
    "    populacija = zacetna_populacija(maksimalna)\n",
    "    for element in populacija:\n",
    "        slovar[element] = neodvistnostno_stevilo(element)\n",
    "    razporejena_populacija = sorted(slovar.items(), key = operator.itemgetter(1))\n",
    "    nasa_populacija = []\n",
    "    for osebek in razporejena_populacija:\n",
    "        nasa_populacija.append(populacija[osebek[0]])\n",
    "    return nasa_populacija\n"
   ]
  },
  {
   "cell_type": "code",
   "execution_count": 75,
   "metadata": {
    "collapsed": false
   },
   "outputs": [
   ],
   "source": [
    "def testna_populacija(maksimalna):\n",
    "    \"\"\"\n",
    "    Za zacetni parameter izberemo zacetna_populacija(), ki nam bo vrnila\n",
    "    vse grafe zacetne velikosti.\n",
    "    Najprej moramo določiti, kolikšen del začetne populacije bomo testirali\n",
    "    V genetiki velja, da ostanejo zgolj najboljsi, zato bomo vzeli le najboljse,\n",
    "    torej tiste, z minimalnim neodvistnostnim številom.\n",
    "    \"\"\"\n",
    "    populacija = razporedi()\n",
    "    if len(populacija) > maksimalna:\n",
    "        testna_populacija = populacija[:maksimalna]\n",
    "    else:\n",
    "        testna_populacija = populacija\n",
    "    return testna_populacija\n"
   ]
  },
  {
   "cell_type": "code",
   "execution_count": 91,
   "metadata": {
    "collapsed": false
   },
   "outputs": [
   ],
   "source": [
    "def doda_povezavo(graf):\n",
    "    \"\"\"\n",
    "    Spremeni graf tako, da mu doda povezavo\n",
    "    \"\"\"\n",
    "    G = Graph(graf)\n",
    "    if G.vertices() == []:\n",
    "        return G\n",
    "    else:\n",
    "        vozlisca = graf.vertices()\n",
    "        vozlisce1 = G.random_vertex()\n",
    "        vozlisce2 = G.random_vertex()\n",
    "        if vozlisce1 != vozlisce2:\n",
    "            G.add_edge(vozlisce1, vozlisce2)\n",
    "        return G\n"
   ]
  },
  {
   "cell_type": "code",
   "execution_count": 78,
   "metadata": {
    "collapsed": false
   },
   "outputs": [
   ],
   "source": [
    "def odstrani_povezavo(graf):\n",
    "    \"\"\"\n",
    "    Odstrani nakljucno povezavo iz grafa;\n",
    "    Pazimo, da mora graf, ki ga dobimo, biti povezan.\n",
    "    \"\"\"\n",
    "    kopija = Graph(graf, immutable=True)\n",
    "    G = Graph(kopija)\n",
    "    if G.vertices() == []:\n",
    "        return G\n",
    "    else:\n",
    "        vozlisce1 = G.random_vertex()\n",
    "        vozlisce2 = G.random_vertex()\n",
    "        if vozlisce1 != vozlisce2:\n",
    "            G.delete_edge(vozlisce1, vozlisce2)\n",
    "            if G.is_connected():\n",
    "                return G\n",
    "            else:\n",
    "                G.add_edge(vozlisce1, vozlisce2)\n"
   ]
  },
  {
   "cell_type": "code",
   "execution_count": 68,
   "metadata": {
    "collapsed": false
   },
   "outputs": [
   ],
   "source": [
    "def mutacija_vozlisce(graf):\n",
    "    \"\"\"\n",
    "    Doda vozlisce in mu nato doda nekaj povezav nanj.\n",
    "    \"\"\"\n",
    "    graf = Graph(graf)\n",
    "    dolzina = len(graf.vertices())\n",
    "    graf.add_vertex()\n",
    "    stevilo = randint(0,dolzina)\n",
    "    vozlisca = graf.vertices()\n",
    "    dodaj_vozlisca = random.sample(vozlisca, stevilo)\n",
    "    for i in range(stevilo):\n",
    "        graf.add_edge(novo, dodaj_vozlisca[i])\n",
    "    return graf\n"
   ]
  },
  {
   "cell_type": "code",
   "execution_count": 87,
   "metadata": {
    "collapsed": false
   },
   "outputs": [
   ],
   "source": [
    "def odstrani_vozlisce(graf):\n",
    "    \"\"\"\n",
    "    Funkcija iz grafa odstrani vozlišče in vse povezave nanj.\n",
    "    \"\"\"\n",
    "    graf = Graph(graf)\n",
    "    if graf.vertices() == []:\n",
    "        return graf\n",
    "    else:\n",
    "        vozlisce1 = graf.random_vertex()\n",
    "        graf.delete_vertex(vozlisce1)\n",
    "        if graf.is_connected():\n",
    "            return graf\n"
   ]
  },
  {
   "cell_type": "code",
   "execution_count": 10,
   "metadata": {
    "collapsed": false
   },
   "outputs": [
   ],
   "source": [
    "def mutacija(graf):\n",
    "    \"\"\"\n",
    "    Na grafu lahko odstranimo, dodamo povezavo, dodamo, odstranimo vozlisce in vsako kombinacijo le teh.\n",
    "    \"\"\"\n",
    "    p = random.uniform(0,1)\n",
    "    if p <= 1/15:\n",
    "        odstrani_vozlisce(graf)\n",
    "    elif p > 1/15 and p <= 2/15:\n",
    "         mutacija_vozlisce(graf)\n",
    "    elif p > 2/15 and p <= 3/15:\n",
    "        odstrani_povezavo(graf)\n",
    "    elif p > 3/15 and p <= 4/15:\n",
    "        doda_povezavo(graf)\n",
    "    elif p > 4/15 and p <= 5/15:\n",
    "        sprememba = odstrani_vozlisce(graf)\n",
    "        mutacija_vozlisce(sprememba)\n",
    "    elif p > 5/15 and p <= 6/15:\n",
    "        sprememba = odstrani_vozlisce(graf)\n",
    "        odstrani_povezavo(sprememba)\n",
    "    elif p > 6/15 and p <= 7/15:\n",
    "        sprememba = odstrani_vozlisce(graf)\n",
    "        doda_povezavo(sprememba)\n",
    "    elif p > 7/15 and p <= 8/15:\n",
    "        sprememba = mutacija_vozlisce(graf)\n",
    "        odstrani_povezavo(sprememba)\n",
    "    elif p > 8/15 and p <= 9/15:\n",
    "        sprememba = mutacija_vozlisce(graf)\n",
    "        doda_povezavo(sprememba)\n",
    "    elif p > 9/15 and p <= 10/15:\n",
    "        sprememba = odstrani_povezavo(graf)\n",
    "        doda_povezavo(sprememba)\n",
    "    elif p > 10/15 and p <= 11/15:\n",
    "        sprememba = mutacija_vozlisce(graf)\n",
    "        sprememba2 = doda_povezavo(sprememba)\n",
    "        odstrani_povezavo(sprememba2)\n",
    "    elif p > 11/15 and p <= 12/15:\n",
    "        sprememba = mutacija_vozlisce(graf)\n",
    "        sprememba2 = doda_povezavo(sprememba)\n",
    "        odstrani_povezavo(sprememba2)\n",
    "    elif p > 12/15 and p <= 13/15:\n",
    "        sprememba = mutacija_vozlisce(graf)\n",
    "        sprememba2 = odstrani_vozlisce(sprememba)\n",
    "        odstrani_povezavo(sprememba2)\n",
    "    elif p > 13/15 and p <= 14/15:\n",
    "        sprememba = mutacija_vozlisce(graf)\n",
    "        sprememba2 = doda_povezavo(sprememba)\n",
    "        odstrani_vozlisce(sprememba2)\n",
    "    elif p > 14/15 and p <= 15/15:\n",
    "        sprememba = mutacija_vozlisce(graf)\n",
    "        sprememba2 = doda_povezavo(sprememba)\n",
    "        sprememba3 = odstrani_povezavo(sprememba2)\n",
    "        odstrani_vozlisce(sprememba3)\n"
   ]
  },
  {
   "cell_type": "code",
   "execution_count": 11,
   "metadata": {
    "collapsed": false
   },
   "outputs": [
   ],
   "source": [
    "def nova_populacija(populacija = None, verjetnost = 0.05):\n",
    "    \"\"\"\n",
    "    Vsak graf iz populacije z neko verjetnostjo spremenimo.\n",
    "    Za zacetku za populacijo uporabimo testna_populacija(maksimalna)\n",
    "    Ti spremenjeni grafi nam dajo novo populacijo.\n",
    "    \"\"\"\n",
    "    naslednja_generacija = []\n",
    "    for i in range(len(populacija)):\n",
    "        q = random.uniform(0,1)\n",
    "        r = random.uniform(0,1)\n",
    "        prob = q * r\n",
    "        if verjetnost < prob:\n",
    "            naslednja_generacija[i] = mutacija(populacija[i])\n",
    "        else:\n",
    "            naslednja_generacija[i] = populacija[i]\n",
    "    return naslednja_generacija\n"
   ]
  },
  {
   "cell_type": "code",
   "execution_count": 12,
   "metadata": {
    "collapsed": false
   },
   "outputs": [
   ],
   "source": [
    "def crossover(n, stars1, stars2):\n",
    "    \"\"\"\n",
    "    V nasem primeru je n stevilo vozlisc, na katerih se grafa krizata.\n",
    "    Nove povezave nam povedo, koliko in katere povezav bo imel graf.\n",
    "    \"\"\"\n",
    "    while True:\n",
    "        graf1 = stars1.random_subgraph(0.5)\n",
    "        graf2 = stars2.random_subgraph(0.5)\n",
    "        if len(graf1.vertices()) + len(graf2.vertices()) == n and len(graf1.vertices()) >= 1 and len(graf1.vertices()) < n and graf1.is_connected() and graf2.is_connected():\n",
    "            graf1.relabel()\n",
    "            graf2.relabel()\n",
    "            naslednik = graf1.disjoint_union(graf2)\n",
    "            nove_povezave = poisson(lambd = log(n/2))\n",
    "            for k in range(nove_povezave):\n",
    "                prvi = graf1.random_vertex()\n",
    "                drugi = graf2.random_vertex()\n",
    "                potomec.add_edge((0, prvi), (1, drugi))\n",
    "            naslednik.relabel()\n",
    "            break\n",
    "    return potomec\n"
   ]
  },
  {
   "cell_type": "code",
   "execution_count": 13,
   "metadata": {
    "collapsed": false
   },
   "outputs": [
   ],
   "source": [
    "def potomci(populacija = None, verjetnost = 0.05):\n",
    "    \"\"\"\n",
    "    Navadno za populacijo uporabimo nova_populacija(populacija = testna_populacija(maksimalna))\n",
    "    Funkcija nam vrne prejšnjo populacijo in premešano populacijo, združeno v eno.\n",
    "    \"\"\"\n",
    "    nova_populacija = populacija\n",
    "    stevilo_parjenj = poisson(t = len(populacija))\n",
    "    for k in range(stevilo_parjenj):\n",
    "        starsa = random.sample(populacija, k = 2)\n",
    "        nova_populacija.append(crossover(n, starsa[0], starsa[1]))\n",
    "    return nova_populacija\n"
   ]
  },
  {
   "cell_type": "code",
   "execution_count": 74,
   "metadata": {
    "collapsed": false
   },
   "outputs": [
   ],
   "source": [
    "def KoncniTestGA(konec,maksimalna):\n",
    "    \"\"\"\n",
    "    Konec pove, koliko generacij naj pogledamo.\n",
    "    Funkcija lahko vrne dve možnosti:\n",
    "                                     1. Najde nam izjemo, jo pokaže in tako ovržemo domnevo.\n",
    "                                     2. Izjeme sploh ne dobimo, in tako izjeme ne vrnemo.\n",
    "    \"\"\"\n",
    "    populacija = testna_populacija(maksimalna)\n",
    "    i = 1\n",
    "    while i <= konec:\n",
    "        populacija = potomci(populacija)\n",
    "        populacija = mutacija(populacija)\n",
    "        populacija = testna_populacija(populacija)\n",
    "        for i in range(len(populacija)):\n",
    "            G = populacija[i]\n",
    "            if neodvistnostno_stevilo(G) <= 1 + povprecna(G):\n",
    "                if G.hamiltonian_path() == None:\n",
    "                    print (G)\n",
    "                    return \"Ovrgli smo domnevo\"\n",
    "\n",
    "                i += 1\n",
    "    return \"Domneva ni ovrzena.\""
   ]
  },
  {
   "cell_type": "code",
   "execution_count": 92,
   "metadata": {
    "collapsed": false,
    "scrolled": true
   },
   "outputs": [
    {
     "ename": "KeyboardInterrupt",
     "evalue": "",
     "output_type": "error",
     "traceback": [
      "\u001b[0;31m---------------------------------------------------------------------------\u001b[0m",
      "\u001b[0;31mKeyboardInterrupt\u001b[0m                         Traceback (most recent call last)",
      "\u001b[0;32m<ipython-input-92-b28162728aca>\u001b[0m in \u001b[0;36m<module>\u001b[0;34m()\u001b[0m\n\u001b[0;32m----> 1\u001b[0;31m \u001b[0mf\u001b[0m \u001b[0;34m=\u001b[0m \u001b[0mKoncniTestGA\u001b[0m\u001b[0;34m(\u001b[0m\u001b[0mInteger\u001b[0m\u001b[0;34m(\u001b[0m\u001b[0;36m1\u001b[0m\u001b[0;34m)\u001b[0m\u001b[0;34m,\u001b[0m\u001b[0mInteger\u001b[0m\u001b[0;34m(\u001b[0m\u001b[0;36m20\u001b[0m\u001b[0;34m)\u001b[0m\u001b[0;34m)\u001b[0m\u001b[0;34m\u001b[0m\u001b[0m\n\u001b[0m",
      "\u001b[0;32m<ipython-input-74-c26c8fed1ca1>\u001b[0m in \u001b[0;36mKoncniTestGA\u001b[0;34m(konec, maksimalna)\u001b[0m\n\u001b[1;32m     10\u001b[0m     \u001b[0;32mwhile\u001b[0m \u001b[0mi\u001b[0m \u001b[0;34m<=\u001b[0m \u001b[0mkonec\u001b[0m\u001b[0;34m:\u001b[0m\u001b[0;34m\u001b[0m\u001b[0m\n\u001b[1;32m     11\u001b[0m         \u001b[0mpopulacija\u001b[0m \u001b[0;34m=\u001b[0m \u001b[0mpotomci\u001b[0m\u001b[0;34m(\u001b[0m\u001b[0mpopulacija\u001b[0m\u001b[0;34m)\u001b[0m\u001b[0;34m\u001b[0m\u001b[0m\n\u001b[0;32m---> 12\u001b[0;31m         \u001b[0mpopulacija\u001b[0m \u001b[0;34m=\u001b[0m \u001b[0mmutacija\u001b[0m\u001b[0;34m(\u001b[0m\u001b[0mpopulacija\u001b[0m\u001b[0;34m)\u001b[0m\u001b[0;34m\u001b[0m\u001b[0m\n\u001b[0m\u001b[1;32m     13\u001b[0m         \u001b[0mpopulacija\u001b[0m \u001b[0;34m=\u001b[0m \u001b[0mtestna_populacija\u001b[0m\u001b[0;34m(\u001b[0m\u001b[0mpopulacija\u001b[0m\u001b[0;34m)\u001b[0m\u001b[0;34m\u001b[0m\u001b[0m\n\u001b[1;32m     14\u001b[0m         \u001b[0;32mfor\u001b[0m \u001b[0mi\u001b[0m \u001b[0;32min\u001b[0m \u001b[0mrange\u001b[0m\u001b[0;34m(\u001b[0m\u001b[0mlen\u001b[0m\u001b[0;34m(\u001b[0m\u001b[0mpopulacija\u001b[0m\u001b[0;34m)\u001b[0m\u001b[0;34m)\u001b[0m\u001b[0;34m:\u001b[0m\u001b[0;34m\u001b[0m\u001b[0m\n",
      "\u001b[0;32m<ipython-input-10-5fd44db13650>\u001b[0m in \u001b[0;36mmutacija\u001b[0;34m(graf)\u001b[0m\n\u001b[1;32m     33\u001b[0m         \u001b[0msprememba\u001b[0m \u001b[0;34m=\u001b[0m \u001b[0mmutacija_vozlisce\u001b[0m\u001b[0;34m(\u001b[0m\u001b[0mgraf\u001b[0m\u001b[0;34m)\u001b[0m\u001b[0;34m\u001b[0m\u001b[0m\n\u001b[1;32m     34\u001b[0m         \u001b[0msprememba2\u001b[0m \u001b[0;34m=\u001b[0m \u001b[0mdoda_povezavo\u001b[0m\u001b[0;34m(\u001b[0m\u001b[0msprememba\u001b[0m\u001b[0;34m)\u001b[0m\u001b[0;34m\u001b[0m\u001b[0m\n\u001b[0;32m---> 35\u001b[0;31m         \u001b[0modstrani_povezavo\u001b[0m\u001b[0;34m(\u001b[0m\u001b[0msprememba2\u001b[0m\u001b[0;34m)\u001b[0m\u001b[0;34m\u001b[0m\u001b[0m\n\u001b[0m\u001b[1;32m     36\u001b[0m     \u001b[0;32melif\u001b[0m \u001b[0mp\u001b[0m \u001b[0;34m>\u001b[0m \u001b[0mInteger\u001b[0m\u001b[0;34m(\u001b[0m\u001b[0;36m11\u001b[0m\u001b[0;34m)\u001b[0m\u001b[0;34m/\u001b[0m\u001b[0mInteger\u001b[0m\u001b[0;34m(\u001b[0m\u001b[0;36m15\u001b[0m\u001b[0;34m)\u001b[0m \u001b[0;32mand\u001b[0m \u001b[0mp\u001b[0m \u001b[0;34m<=\u001b[0m \u001b[0mInteger\u001b[0m\u001b[0;34m(\u001b[0m\u001b[0;36m12\u001b[0m\u001b[0;34m)\u001b[0m\u001b[0;34m/\u001b[0m\u001b[0mInteger\u001b[0m\u001b[0;34m(\u001b[0m\u001b[0;36m15\u001b[0m\u001b[0;34m)\u001b[0m\u001b[0;34m:\u001b[0m\u001b[0;34m\u001b[0m\u001b[0m\n\u001b[1;32m     37\u001b[0m         \u001b[0msprememba\u001b[0m \u001b[0;34m=\u001b[0m \u001b[0mmutacija_vozlisce\u001b[0m\u001b[0;34m(\u001b[0m\u001b[0mgraf\u001b[0m\u001b[0;34m)\u001b[0m\u001b[0;34m\u001b[0m\u001b[0m\n",
      "\u001b[0;32m<ipython-input-78-2aa011652a94>\u001b[0m in \u001b[0;36modstrani_povezavo\u001b[0;34m(graf)\u001b[0m\n\u001b[1;32m      4\u001b[0m     \u001b[0mPazimo\u001b[0m\u001b[0;34m,\u001b[0m \u001b[0mda\u001b[0m \u001b[0mmora\u001b[0m \u001b[0mgraf\u001b[0m\u001b[0;34m,\u001b[0m \u001b[0mki\u001b[0m \u001b[0mga\u001b[0m \u001b[0mdobimo\u001b[0m\u001b[0;34m,\u001b[0m \u001b[0mbiti\u001b[0m \u001b[0mpovezan\u001b[0m\u001b[0;34m.\u001b[0m\u001b[0;34m\u001b[0m\u001b[0m\n\u001b[1;32m      5\u001b[0m     \"\"\"\n\u001b[0;32m----> 6\u001b[0;31m     \u001b[0mkopija\u001b[0m \u001b[0;34m=\u001b[0m \u001b[0mGraph\u001b[0m\u001b[0;34m(\u001b[0m\u001b[0mgraf\u001b[0m\u001b[0;34m,\u001b[0m \u001b[0mimmutable\u001b[0m\u001b[0;34m=\u001b[0m\u001b[0mTrue\u001b[0m\u001b[0;34m)\u001b[0m\u001b[0;34m\u001b[0m\u001b[0m\n\u001b[0m\u001b[1;32m      7\u001b[0m     \u001b[0mG\u001b[0m \u001b[0;34m=\u001b[0m \u001b[0mGraph\u001b[0m\u001b[0;34m(\u001b[0m\u001b[0mkopija\u001b[0m\u001b[0;34m)\u001b[0m\u001b[0;34m\u001b[0m\u001b[0m\n\u001b[1;32m      8\u001b[0m     \u001b[0;32mif\u001b[0m \u001b[0mG\u001b[0m\u001b[0;34m.\u001b[0m\u001b[0mvertices\u001b[0m\u001b[0;34m(\u001b[0m\u001b[0;34m)\u001b[0m \u001b[0;34m==\u001b[0m \u001b[0;34m[\u001b[0m\u001b[0;34m]\u001b[0m\u001b[0;34m:\u001b[0m\u001b[0;34m\u001b[0m\u001b[0m\n",
      "\u001b[0;32m/ext/sage/sage-8.4_1804/local/lib/python2.7/site-packages/sage/graphs/graph.pyc\u001b[0m in \u001b[0;36m__init__\u001b[0;34m(self, data, pos, loops, format, weighted, implementation, data_structure, vertex_labels, name, multiedges, convert_empty_dict_labels_to_None, sparse, immutable)\u001b[0m\n\u001b[1;32m   1281\u001b[0m         \u001b[0mself\u001b[0m\u001b[0;34m.\u001b[0m\u001b[0m_weighted\u001b[0m \u001b[0;34m=\u001b[0m \u001b[0mgetattr\u001b[0m\u001b[0;34m(\u001b[0m\u001b[0mself\u001b[0m\u001b[0;34m,\u001b[0m\u001b[0;34m'_weighted'\u001b[0m\u001b[0;34m,\u001b[0m\u001b[0mweighted\u001b[0m\u001b[0;34m)\u001b[0m\u001b[0;34m\u001b[0m\u001b[0m\n\u001b[1;32m   1282\u001b[0m \u001b[0;34m\u001b[0m\u001b[0m\n\u001b[0;32m-> 1283\u001b[0;31m         \u001b[0mself\u001b[0m\u001b[0;34m.\u001b[0m\u001b[0m_pos\u001b[0m \u001b[0;34m=\u001b[0m \u001b[0mcopy\u001b[0m\u001b[0;34m(\u001b[0m\u001b[0mpos\u001b[0m\u001b[0;34m)\u001b[0m\u001b[0;34m\u001b[0m\u001b[0m\n\u001b[0m\u001b[1;32m   1284\u001b[0m \u001b[0;34m\u001b[0m\u001b[0m\n\u001b[1;32m   1285\u001b[0m         \u001b[0;32mif\u001b[0m \u001b[0mformat\u001b[0m \u001b[0;34m!=\u001b[0m \u001b[0;34m'Graph'\u001b[0m \u001b[0;32mor\u001b[0m \u001b[0mname\u001b[0m \u001b[0;32mis\u001b[0m \u001b[0;32mnot\u001b[0m \u001b[0mNone\u001b[0m\u001b[0;34m:\u001b[0m\u001b[0;34m\u001b[0m\u001b[0m\n",
      "\u001b[0;32m/ext/sage/sage-8.4_1804/local/lib/python2.7/copy.pyc\u001b[0m in \u001b[0;36mcopy\u001b[0;34m(x)\u001b[0m\n\u001b[1;32m     72\u001b[0m     \u001b[0mcls\u001b[0m \u001b[0;34m=\u001b[0m \u001b[0mtype\u001b[0m\u001b[0;34m(\u001b[0m\u001b[0mx\u001b[0m\u001b[0;34m)\u001b[0m\u001b[0;34m\u001b[0m\u001b[0m\n\u001b[1;32m     73\u001b[0m \u001b[0;34m\u001b[0m\u001b[0m\n\u001b[0;32m---> 74\u001b[0;31m     \u001b[0mcopier\u001b[0m \u001b[0;34m=\u001b[0m \u001b[0m_copy_dispatch\u001b[0m\u001b[0;34m.\u001b[0m\u001b[0mget\u001b[0m\u001b[0;34m(\u001b[0m\u001b[0mcls\u001b[0m\u001b[0;34m)\u001b[0m\u001b[0;34m\u001b[0m\u001b[0m\n\u001b[0m\u001b[1;32m     75\u001b[0m     \u001b[0;32mif\u001b[0m \u001b[0mcopier\u001b[0m\u001b[0;34m:\u001b[0m\u001b[0;34m\u001b[0m\u001b[0m\n\u001b[1;32m     76\u001b[0m         \u001b[0;32mreturn\u001b[0m \u001b[0mcopier\u001b[0m\u001b[0;34m(\u001b[0m\u001b[0mx\u001b[0m\u001b[0;34m)\u001b[0m\u001b[0;34m\u001b[0m\u001b[0m\n",
      "\u001b[0;32msrc/cysignals/signals.pyx\u001b[0m in \u001b[0;36mcysignals.signals.python_check_interrupt\u001b[0;34m()\u001b[0m\n",
      "\u001b[0;32msrc/cysignals/signals.pyx\u001b[0m in \u001b[0;36mcysignals.signals.sig_raise_exception\u001b[0;34m()\u001b[0m\n",
      "\u001b[0;31mKeyboardInterrupt\u001b[0m: "
     ]
    }
   ],
   "source": [
    "f = KoncniTestGA(1,20)"
   ]
  },
  {
   "cell_type": "code",
   "execution_count": 93,
   "metadata": {
    "collapsed": false
   },
   "outputs": [
   ],
   "source": [
    "f = KoncniTestGA(1,5)"
   ]
  },
  {
   "cell_type": "code",
   "execution_count": 0,
   "metadata": {
    "collapsed": false
   },
   "outputs": [
   ],
   "source": [
    "f"
   ]
  },
  {
   "cell_type": "code",
   "execution_count": 0,
   "metadata": {
    "collapsed": false
   },
   "outputs": [
   ],
   "source": [
   ]
  }
 ],
 "metadata": {
  "kernelspec": {
   "display_name": "SageMath (stable)",
   "language": "sagemath",
   "name": "sagemath"
  },
  "language_info": {
   "codemirror_mode": {
    "name": "ipython",
    "version": 2
   },
   "file_extension": ".py",
   "mimetype": "text/x-python",
   "name": "python",
   "nbconvert_exporter": "python",
   "pygments_lexer": "ipython2",
   "version": "2.7.15"
  }
 },
 "nbformat": 4,
 "nbformat_minor": 0
}