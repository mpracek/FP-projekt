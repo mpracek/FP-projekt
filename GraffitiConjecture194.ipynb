{
 "cells": [
  {
   "cell_type": "markdown",
   "metadata": {
    "collapsed": false
   },
   "source": [
    "# Glavna koda\n",
    "V tem delu je zapisan prvi del kode, kjer bomo testirali grafe za določene velikosti.\n",
    "Koda je ravno tako opisana v [poročilu](https://github.com/mpracek/Graffiti-conjecture-194/blob/master/Porocilo/dolgo_porocilo.pdf)."
   ]
  },
  {
   "cell_type": "code",
   "execution_count": 1,
   "metadata": {
    "collapsed": false
   },
   "outputs": [
   ],
   "source": [
    "import random\n",
    "import operator\n",
    "import math\n",
    "\n",
    "def nasi_grafi(stevilo_vozlisc):\n",
    "    \"\"\"\n",
    "    Funkcija, ki nam vrne enostavne povezane grafe na dolocenem stevilu vozlisc.\n",
    "    \"\"\"\n",
    "    grafi = list(graphs.nauty_geng(str(stevilo_vozlisc)+\" -c\"))\n",
    "    return grafi\n",
    "\n",
    "def neodvisnostno_stevilo(G):\n",
    "    \"\"\"\n",
    "    Vrne neodvistno število grafa G\n",
    "    Za pomoc uporabimo independet_set() iz modula neusmerjenih grafov.\n",
    "    \"\"\"\n",
    "    neodvisno = G.independent_set()\n",
    "    dolzina = len(neodvisno)\n",
    "    return dolzina\n",
    "\n",
    "\n",
    "def naredi_podgraf(G, seznam):\n",
    "    \"\"\"\n",
    "    Funkcija, ki nam za dan seznam vozlisc vrne podgraf, definiran na le teh\n",
    "    Seznam je tukaj nabor vozlisc, ki nas zanimajo.\n",
    "    \"\"\"\n",
    "    H = Graph(G, immutable=True)\n",
    "    sosedi = []\n",
    "    for vozlisce in H:\n",
    "        nabor_sosedov = ()\n",
    "        if vozlisce in seznam:\n",
    "            for element in H[vozlisce]:\n",
    "                if element in seznam:\n",
    "                    a = list(nabor_sosedov)\n",
    "                    a.append([vozlisce, element])\n",
    "                    tuple(a)\n",
    "        sosedi.append(nabor_sosedov)\n",
    "    nov_graf = H.subgraph(vertices = seznam, edges = sosedi)\n",
    "    return nov_graf\n",
    "\n",
    "\n",
    "def lokalna_neodvisnost(G, vozlisce):\n",
    "    \"\"\"\n",
    "    Vrne lokalno neodvistnost grafa G v vozliscu v.\n",
    "    Lokalna neodvistnost je neodvistnost podgrafa, ki ga določajo sosedi vozlišča v,\n",
    "    za nek v iz množice vozlišč.\n",
    "    \"\"\"\n",
    "    mnozica = G[vozlisce]\n",
    "    novGraf = naredi_podgraf(G, mnozica)\n",
    "    lokalna = neodvisnostno_stevilo(novGraf)\n",
    "    return lokalna\n",
    "\n",
    "def povprecna(G):\n",
    "    \"\"\"\n",
    "    Vrne povprečno lokalno neodvisnost grafa G\n",
    "    \"\"\"\n",
    "    povprecje =  0\n",
    "    for vozlisce in G:\n",
    "        povprecje += lokalna_neodvisnost(G, vozlisce)\n",
    "    povprecna_vrednost  = povprecje/ len(G)\n",
    "    return povprecna_vrednost\n",
    "\n",
    "def preverjanje_za_en_graf(G):\n",
    "    \"\"\"\n",
    "    Preveri, ali za en graf velja, če je ta graf izjema.\n",
    "    \"\"\"\n",
    "    if neodvisnostno_stevilo(G) <= 1 + povprecna(G):\n",
    "            if G.hamiltonian_path() == None:\n",
    "                graf = str(G)\n",
    "                return \"Ovrgli smo domnevo in izjema je\" + \tgraf\n",
    "    else:\n",
    "        return \"Izjeme nismo ovrgli\"\n",
    "\n",
    "def preverjanje(stevilo_vozlisc):\n",
    "    \"\"\"\n",
    "    Preveri veljavnost konjekture za vse grafe na določenem številu vozlišč.\n",
    "    \"\"\"\n",
    "    for G in nasi_grafi(stevilo_vozlisc):\n",
    "        if neodvisnostno_stevilo(G) <= 1 + povprecna(G):\n",
    "            if G.hamiltonian_path() == None:\n",
    "                graf = str(G)\n",
    "                return \"Ovrgli smo domnevo in izjema je\" + \tgraf\n",
    "    return \"Izjeme nismo ovrgli\"\n"
   ]
  },
  {
   "cell_type": "code",
   "execution_count": 2,
   "metadata": {
    "collapsed": false
   },
   "outputs": [
   ],
   "source": [
    "prvi_test = preverjanje(4)\n"
   ]
  },
  {
   "cell_type": "markdown",
   "metadata": {
    "collapsed": false
   },
   "source": [
    "# Genetski algoritem\n",
    "Od tu naprej bodo vse funkcije bile uporabljene za definicijo [genetskega algoritma](https://en.wikipedia.org/wiki/Genetic_algorithm)."
   ]
  },
  {
   "cell_type": "code",
   "execution_count": 3,
   "metadata": {
    "collapsed": false
   },
   "outputs": [
   ],
   "source": [
    "def poisson(t = 1, lambd = 1/2):\n",
    "    \"\"\"\n",
    "    S to funkcijo določimo začetno stevilo vozlisc\n",
    "    \"\"\"\n",
    "    stevilo_vozlisc = 0\n",
    "    racunalo = 0\n",
    "    while racunalo < t:\n",
    "        stevilo_vozlisc += 1\n",
    "        racunalo += random.expovariate(lambd)\n",
    "    return stevilo_vozlisc\n"
   ]
  },
  {
   "cell_type": "code",
   "execution_count": 4,
   "metadata": {
    "collapsed": false
   },
   "outputs": [
   ],
   "source": [
    "def zacetna_populacija(maksimalna):\n",
    "    \"\"\"\n",
    "    Ta funkcija nam da grafe, na katerih bo opravljen prvi test.\n",
    "    Maksimalna nam pove, koliko je največja (maksimalna) velikost vsake generacije.\n",
    "    \"\"\"\n",
    "    stevilo_vozlisc = poisson(t = 5, lambd = 1/2)\n",
    "    populacija = []\n",
    "    stevec = 0\n",
    "    while stevec < maksimalna:\n",
    "        graf = graphs.RandomGNP(stevilo_vozlisc, random.uniform(0, 1))\n",
    "        if graf.is_connected():\n",
    "            populacija.append(graf)\n",
    "            stevec += 1\n",
    "    return populacija\n"
   ]
  },
  {
   "cell_type": "code",
   "execution_count": 5,
   "metadata": {
    "collapsed": false
   },
   "outputs": [
   ],
   "source": [
    "def razporedi(maksimalna=None):\n",
    "    \"\"\"\n",
    "    Izracuna kriterij, po katerem vse elemente razporedimo in razporedi elemente populacije.\n",
    "    Navadno za populacijo uporabimo zacetna_populacijo(maksimalna).\n",
    "    \"\"\"\n",
    "    slovar = dict()\n",
    "    populacija = zacetna_populacija(maksimalna)\n",
    "    for element in populacija:\n",
    "        slovar[element] = neodvistnostno_stevilo(element)\n",
    "    razporejena_populacija = sorted(slovar.items(), key = operator.itemgetter(1))\n",
    "    nasa_populacija = []\n",
    "    for osebek in razporejena_populacija:\n",
    "        nasa_populacija.append(populacija[osebek[0]])\n",
    "    return nasa_populacija\n"
   ]
  },
  {
   "cell_type": "code",
   "execution_count": 6,
   "metadata": {
    "collapsed": false
   },
   "outputs": [
   ],
   "source": [
    "def testna_populacija(maksimalna):\n",
    "    \"\"\"\n",
    "    Za zacetni parameter izberemo zacetna_populacija(), ki nam bo vrnila\n",
    "    vse grafe zacetne velikosti.\n",
    "    Najprej moramo določiti, kolikšen del začetne populacije bomo testirali\n",
    "    V genetiki velja, da ostanejo zgolj najboljsi, zato bomo vzeli le najboljse,\n",
    "    torej tiste, z minimalnim neodvistnostnim številom.\n",
    "    \"\"\"\n",
    "    populacija = razporedi()\n",
    "    if len(populacija) > maksimalna:\n",
    "        testna_populacija = populacija[:maksimalna]\n",
    "    else:\n",
    "        testna_populacija = populacija\n",
    "    return testna_populacija\n"
   ]
  },
  {
   "cell_type": "code",
   "execution_count": 7,
   "metadata": {
    "collapsed": false
   },
   "outputs": [
   ],
   "source": [
    "def doda_povezavo(graf):\n",
    "    \"\"\"\n",
    "    Spremeni graf tako, da mu doda povezavo\n",
    "    \"\"\"\n",
    "    G = Graph(graf)\n",
    "    if G.vertices() == []:\n",
    "        return G\n",
    "    else:\n",
    "        vozlisca = graf.vertices()\n",
    "        vozlisce1 = G.random_vertex()\n",
    "        vozlisce2 = G.random_vertex()\n",
    "        if vozlisce1 != vozlisce2:\n",
    "            G.add_edge(vozlisce1, vozlisce2)\n",
    "        return G\n"
   ]
  },
  {
   "cell_type": "code",
   "execution_count": 8,
   "metadata": {
    "collapsed": false
   },
   "outputs": [
   ],
   "source": [
    "def odstrani_povezavo(graf):\n",
    "    \"\"\"\n",
    "    Odstrani nakljucno povezavo iz grafa;\n",
    "    Pazimo, da mora graf, ki ga dobimo, biti povezan.\n",
    "    \"\"\"\n",
    "    kopija = Graph(graf, immutable=True)\n",
    "    G = Graph(kopija)\n",
    "    if G.vertices() == []:\n",
    "        return G\n",
    "    else:\n",
    "        vozlisce1 = G.random_vertex()\n",
    "        vozlisce2 = G.random_vertex()\n",
    "        if vozlisce1 != vozlisce2:\n",
    "            G.delete_edge(vozlisce1, vozlisce2)\n",
    "            if G.is_connected():\n",
    "                return G\n",
    "            else:\n",
    "                G.add_edge(vozlisce1, vozlisce2)\n"
   ]
  },
  {
   "cell_type": "code",
   "execution_count": 9,
   "metadata": {
    "collapsed": false
   },
   "outputs": [
   ],
   "source": [
    "def mutacija_vozlisce(graf):\n",
    "    \"\"\"\n",
    "    Doda vozlisce in mu nato doda nekaj povezav nanj.\n",
    "    \"\"\"\n",
    "    graf = Graph(graf)\n",
    "    dolzina = len(graf.vertices())\n",
    "    graf.add_vertex()\n",
    "    stevilo = randint(0,dolzina)\n",
    "    vozlisca = graf.vertices()\n",
    "    dodaj_vozlisca = random.sample(vozlisca, stevilo)\n",
    "    for i in range(stevilo):\n",
    "        graf.add_edge(novo, dodaj_vozlisca[i])\n",
    "    return graf\n"
   ]
  },
  {
   "cell_type": "code",
   "execution_count": 10,
   "metadata": {
    "collapsed": false
   },
   "outputs": [
   ],
   "source": [
    "def odstrani_vozlisce(graf):\n",
    "    \"\"\"\n",
    "    Funkcija iz grafa odstrani vozlišče in vse povezave nanj.\n",
    "    \"\"\"\n",
    "    graf = Graph(graf)\n",
    "    if graf.vertices() == []:\n",
    "        return graf\n",
    "    else:\n",
    "        vozlisce1 = graf.random_vertex()\n",
    "        graf.delete_vertex(vozlisce1)\n",
    "        if graf.is_connected():\n",
    "            return graf\n"
   ]
  },
  {
   "cell_type": "code",
   "execution_count": 11,
   "metadata": {
    "collapsed": false
   },
   "outputs": [
   ],
   "source": [
    "def mutacija(graf):\n",
    "    \"\"\"\n",
    "    Na grafu lahko odstranimo, dodamo povezavo, dodamo, odstranimo vozlisce in vsako kombinacijo le teh.\n",
    "    \"\"\"\n",
    "    p = random.uniform(0,1)\n",
    "    if p <= 1/15:\n",
    "        odstrani_vozlisce(graf)\n",
    "    elif p > 1/15 and p <= 2/15:\n",
    "         mutacija_vozlisce(graf)\n",
    "    elif p > 2/15 and p <= 3/15:\n",
    "        odstrani_povezavo(graf)\n",
    "    elif p > 3/15 and p <= 4/15:\n",
    "        doda_povezavo(graf)\n",
    "    elif p > 4/15 and p <= 5/15:\n",
    "        sprememba = odstrani_vozlisce(graf)\n",
    "        mutacija_vozlisce(sprememba)\n",
    "    elif p > 5/15 and p <= 6/15:\n",
    "        sprememba = odstrani_vozlisce(graf)\n",
    "        odstrani_povezavo(sprememba)\n",
    "    elif p > 6/15 and p <= 7/15:\n",
    "        sprememba = odstrani_vozlisce(graf)\n",
    "        doda_povezavo(sprememba)\n",
    "    elif p > 7/15 and p <= 8/15:\n",
    "        sprememba = mutacija_vozlisce(graf)\n",
    "        odstrani_povezavo(sprememba)\n",
    "    elif p > 8/15 and p <= 9/15:\n",
    "        sprememba = mutacija_vozlisce(graf)\n",
    "        doda_povezavo(sprememba)\n",
    "    elif p > 9/15 and p <= 10/15:\n",
    "        sprememba = odstrani_povezavo(graf)\n",
    "        doda_povezavo(sprememba)\n",
    "    elif p > 10/15 and p <= 11/15:\n",
    "        sprememba = mutacija_vozlisce(graf)\n",
    "        sprememba2 = doda_povezavo(sprememba)\n",
    "        odstrani_povezavo(sprememba2)\n",
    "    elif p > 11/15 and p <= 12/15:\n",
    "        sprememba = mutacija_vozlisce(graf)\n",
    "        sprememba2 = doda_povezavo(sprememba)\n",
    "        odstrani_povezavo(sprememba2)\n",
    "    elif p > 12/15 and p <= 13/15:\n",
    "        sprememba = mutacija_vozlisce(graf)\n",
    "        sprememba2 = odstrani_vozlisce(sprememba)\n",
    "        odstrani_povezavo(sprememba2)\n",
    "    elif p > 13/15 and p <= 14/15:\n",
    "        sprememba = mutacija_vozlisce(graf)\n",
    "        sprememba2 = doda_povezavo(sprememba)\n",
    "        odstrani_vozlisce(sprememba2)\n",
    "    elif p > 14/15 and p <= 15/15:\n",
    "        sprememba = mutacija_vozlisce(graf)\n",
    "        sprememba2 = doda_povezavo(sprememba)\n",
    "        sprememba3 = odstrani_povezavo(sprememba2)\n",
    "        odstrani_vozlisce(sprememba3)\n"
   ]
  },
  {
   "cell_type": "code",
   "execution_count": 12,
   "metadata": {
    "collapsed": false
   },
   "outputs": [
   ],
   "source": [
    "def nova_populacija(populacija = None, verjetnost = 0.05):\n",
    "    \"\"\"\n",
    "    Vsak graf iz populacije z neko verjetnostjo spremenimo.\n",
    "    Za zacetku za populacijo uporabimo testna_populacija(maksimalna)\n",
    "    Ti spremenjeni grafi nam dajo novo populacijo.\n",
    "    \"\"\"\n",
    "    naslednja_generacija = []\n",
    "    for i in range(len(populacija)):\n",
    "        q = random.uniform(0,1)\n",
    "        r = random.uniform(0,1)\n",
    "        prob = q * r\n",
    "        if verjetnost < prob:\n",
    "            naslednja_generacija[i] = mutacija(populacija[i])\n",
    "        else:\n",
    "            naslednja_generacija[i] = populacija[i]\n",
    "    return naslednja_generacija\n"
   ]
  },
  {
   "cell_type": "code",
   "execution_count": 13,
   "metadata": {
    "collapsed": false
   },
   "outputs": [
   ],
   "source": [
    "def crossover(n, stars1, stars2):\n",
    "    \"\"\"\n",
    "    V nasem primeru je n stevilo vozlisc, na katerih se grafa krizata.\n",
    "    Nove povezave nam povedo, koliko in katere povezav bo imel graf.\n",
    "    \"\"\"\n",
    "    while True:\n",
    "        graf1 = stars1.random_subgraph(0.5)\n",
    "        graf2 = stars2.random_subgraph(0.5)\n",
    "        if len(graf1.vertices()) + len(graf2.vertices()) == n and len(graf1.vertices()) >= 1 and len(graf1.vertices()) < n and graf1.is_connected() and graf2.is_connected():\n",
    "            graf1.relabel()\n",
    "            graf2.relabel()\n",
    "            naslednik = graf1.disjoint_union(graf2)\n",
    "            nove_povezave = poisson(lambd = log(n/2))\n",
    "            for k in range(nove_povezave):\n",
    "                prvi = graf1.random_vertex()\n",
    "                drugi = graf2.random_vertex()\n",
    "                potomec.add_edge((0, prvi), (1, drugi))\n",
    "            naslednik.relabel()\n",
    "            break\n",
    "    return potomec\n"
   ]
  },
  {
   "cell_type": "code",
   "execution_count": 14,
   "metadata": {
    "collapsed": false
   },
   "outputs": [
   ],
   "source": [
    "def potomci(populacija = None, verjetnost = 0.05):\n",
    "    \"\"\"\n",
    "    Navadno za populacijo uporabimo nova_populacija(populacija = testna_populacija(maksimalna))\n",
    "    Funkcija nam vrne prejšnjo populacijo in premešano populacijo, združeno v eno.\n",
    "    \"\"\"\n",
    "    nova_populacija = populacija\n",
    "    stevilo_parjenj = poisson(t = len(populacija))\n",
    "    for k in range(stevilo_parjenj):\n",
    "        starsa = random.sample(populacija, k = 2)\n",
    "        nova_populacija.append(crossover(n, starsa[0], starsa[1]))\n",
    "    return nova_populacija\n"
   ]
  },
  {
   "cell_type": "code",
   "execution_count": 15,
   "metadata": {
    "collapsed": false
   },
   "outputs": [
   ],
   "source": [
    "def KoncniTestGA(konec,maksimalna):\n",
    "    \"\"\"\n",
    "    Konec pove, koliko generacij naj pogledamo.\n",
    "    Funkcija lahko vrne dve možnosti:\n",
    "                                     1. Najde nam izjemo, jo pokaže in tako ovržemo domnevo.\n",
    "                                     2. Izjeme sploh ne dobimo, in tako izjeme ne vrnemo.\n",
    "    \"\"\"\n",
    "    populacija = testna_populacija(maksimalna)\n",
    "    i = 1\n",
    "    while i <= konec:\n",
    "        populacija = potomci(populacija)\n",
    "        populacija = mutacija(populacija)\n",
    "        populacija = testna_populacija(populacija)\n",
    "        for i in range(len(populacija)):\n",
    "            G = populacija[i]\n",
    "            if neodvistnostno_stevilo(G) <= 1 + povprecna(G):\n",
    "                if G.hamiltonian_path() == None:\n",
    "                    print (G)\n",
    "                    return \"Ovrgli smo domnevo\"\n",
    "\n",
    "                i += 1\n",
    "    return \"Domneva ni ovrzena.\""
   ]
  },
  {
   "cell_type": "code",
   "execution_count": 0,
   "metadata": {
    "collapsed": false,
    "scrolled": true
   },
   "outputs": [
   ],
   "source": [
   ]
  },
  {
   "cell_type": "code",
   "execution_count": 0,
   "metadata": {
    "collapsed": false
   },
   "outputs": [
   ],
   "source": [
   ]
  },
  {
   "cell_type": "code",
   "execution_count": 0,
   "metadata": {
    "collapsed": false
   },
   "outputs": [
   ],
   "source": [
   ]
  },
  {
   "cell_type": "code",
   "execution_count": 0,
   "metadata": {
    "collapsed": false
   },
   "outputs": [
   ],
   "source": [
   ]
  }
 ],
 "metadata": {
  "kernelspec": {
   "display_name": "SageMath (stable)",
   "language": "sagemath",
   "name": "sagemath"
  },
  "language_info": {
   "codemirror_mode": {
    "name": "ipython",
    "version": 2
   },
   "file_extension": ".py",
   "mimetype": "text/x-python",
   "name": "python",
   "nbconvert_exporter": "python",
   "pygments_lexer": "ipython2",
   "version": "2.7.15"
  }
 },
 "nbformat": 4,
 "nbformat_minor": 0
}