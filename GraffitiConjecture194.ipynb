{
 "cells": [
  {
   "cell_type": "markdown",
   "metadata": {
    "collapsed": false
   },
   "source": [
    "# Glavna koda\n",
    "V tem delu je zapisan prvi del kode, kjer bomo testirali grafe za določene velikosti.\n",
    "Koda je ravno tako opisana v [poročilu](https://github.com/mpracek/Graffiti-conjecture-194/blob/master/Porocilo/dolgo_porocilo.pdf)."
   ]
  },
  {
   "cell_type": "code",
   "execution_count": 1,
   "metadata": {
    "collapsed": false
   },
   "outputs": [
   ],
   "source": [
    "import random\n",
    "import operator\n",
    "import math\n",
    "\n",
    "def nasi_grafi(stevilo_vozlisc):\n",
    "    \"\"\"\n",
    "    Funkcija, ki nam vrne enostavne povezane grafe na dolocenem stevilu vozlisc.\n",
    "    \"\"\"\n",
    "    grafi = list(graphs.nauty_geng(str(stevilo_vozlisc)+\" -c\"))\n",
    "    return grafi\n",
    "\n",
    "def neodvisnostno_stevilo(G):\n",
    "    \"\"\"\n",
    "    Vrne neodvistno število grafa G\n",
    "    Za pomoc uporabimo independet_set() iz modula neusmerjenih grafov.\n",
    "    \"\"\"\n",
    "    neodvisno = G.independent_set()\n",
    "    dolzina = len(neodvisno)\n",
    "    return dolzina\n",
    "\n",
    "\n",
    "def naredi_podgraf(G, seznam):\n",
    "    \"\"\"\n",
    "    Funkcija, ki nam za dan seznam vozlisc vrne podgraf, definiran na le teh\n",
    "    Seznam je tukaj nabor vozlisc, ki nas zanimajo.\n",
    "    \"\"\"\n",
    "    H = Graph(G, immutable=True)\n",
    "    sosedi = []\n",
    "    for vozlisce in H:\n",
    "        nabor_sosedov = ()\n",
    "        if vozlisce in seznam:\n",
    "            for element in H[vozlisce]:\n",
    "                if element in seznam:\n",
    "                    a = list(nabor_sosedov)\n",
    "                    a.append([vozlisce, element])\n",
    "                    tuple(a)\n",
    "        sosedi.append(nabor_sosedov)\n",
    "    nov_graf = H.subgraph(vertices = seznam, edges = sosedi)\n",
    "    return nov_graf\n",
    "\n",
    "\n",
    "def lokalna_neodvisnost(G, vozlisce):\n",
    "    \"\"\"\n",
    "    Vrne lokalno neodvistnost grafa G v vozliscu v.\n",
    "    Lokalna neodvistnost je neodvistnost podgrafa, ki ga določajo sosedi vozlišča v,\n",
    "    za nek v iz množice vozlišč.\n",
    "    \"\"\"\n",
    "    mnozica = G[vozlisce]\n",
    "    novGraf = naredi_podgraf(G, mnozica)\n",
    "    lokalna = neodvisnostno_stevilo(novGraf)\n",
    "    return lokalna\n",
    "\n",
    "def povprecna(G):\n",
    "    \"\"\"\n",
    "    Vrne povprečno lokalno neodvisnost grafa G\n",
    "    \"\"\"\n",
    "    povprecje =  0\n",
    "    for vozlisce in G:\n",
    "        povprecje += lokalna_neodvisnost(G, vozlisce)\n",
    "    povprecna_vrednost  = povprecje/ len(G)\n",
    "    return povprecna_vrednost\n",
    "\n",
    "def preverjanje_za_en_graf(G):\n",
    "    \"\"\"\n",
    "    Preveri, ali za en graf velja, če je ta graf izjema.\n",
    "    \"\"\"\n",
    "    if neodvisnostno_stevilo(G) <= 1 + povprecna(G):\n",
    "            if G.hamiltonian_path() == None:\n",
    "                graf = str(G)\n",
    "                return \"Ovrgli smo domnevo in izjema je\" + \tgraf\n",
    "    else:\n",
    "        return \"Izjeme nismo ovrgli\"\n",
    "\n",
    "def preverjanje(stevilo_vozlisc):\n",
    "    \"\"\"\n",
    "    Preveri veljavnost konjekture za vse grafe na določenem številu vozlišč.\n",
    "    \"\"\"\n",
    "    for G in nasi_grafi(stevilo_vozlisc):\n",
    "        if neodvisnostno_stevilo(G) <= 1 + povprecna(G):\n",
    "            if G.hamiltonian_path() == None:\n",
    "                p = G.plot()\n",
    "                p.show()\n",
    "                return \"Ovrgli smo domnevo\"\n",
    "    return \"Izjeme nismo ovrgli\"\n"
   ]
  },
  {
   "cell_type": "code",
   "execution_count": 0,
   "metadata": {
    "collapsed": false
   },
   "outputs": [
   ],
   "source": [
   ]
  },
  {
   "cell_type": "code",
   "execution_count": 2,
   "metadata": {
    "collapsed": false
   },
   "outputs": [
    {
     "name": "stdout",
     "output_type": "stream",
     "text": [
      "Izjeme nismo ovrgli\n"
     ]
    }
   ],
   "source": [
    "print(preverjanje(4))"
   ]
  },
  {
   "cell_type": "code",
   "execution_count": 0,
   "metadata": {
    "collapsed": false
   },
   "outputs": [
   ],
   "source": [
   ]
  },
  {
   "cell_type": "markdown",
   "metadata": {
    "collapsed": false
   },
   "source": [
    "# Genetski algoritem\n",
    "Od tu naprej bodo vse funkcije bile uporabljene za definicijo [genetskega algoritma](https://en.wikipedia.org/wiki/Genetic_algorithm)."
   ]
  },
  {
   "cell_type": "code",
   "execution_count": 3,
   "metadata": {
    "collapsed": false
   },
   "outputs": [
   ],
   "source": [
    "def poisson(t = 1, lambd = 1/2):\n",
    "    \"\"\"\n",
    "    S to funkcijo določimo začetno stevilo vozlisc\n",
    "    \"\"\"\n",
    "    stevilo_vozlisc = 0\n",
    "    racunalo = 0\n",
    "    while racunalo < t:\n",
    "        stevilo_vozlisc += 1\n",
    "        racunalo += random.expovariate(lambd)\n",
    "    return stevilo_vozlisc\n"
   ]
  },
  {
   "cell_type": "code",
   "execution_count": 4,
   "metadata": {
    "collapsed": false
   },
   "outputs": [
   ],
   "source": [
    "def zacetna_populacija(maksimalna):\n",
    "    \"\"\"\n",
    "    Ta funkcija nam da grafe, na katerih bo opravljen prvi test.\n",
    "    Maksimalna nam pove, koliko je največja (maksimalna) velikost vsake generacije.\n",
    "    \"\"\"\n",
    "    stevilo_vozlisc = poisson(t = 5, lambd = 1/2)\n",
    "    populacija = []\n",
    "    stevec = 0\n",
    "    while stevec < maksimalna:\n",
    "        graf = graphs.RandomGNP(stevilo_vozlisc, random.uniform(0, 1))\n",
    "        if graf.is_connected():\n",
    "            populacija.append(graf)\n",
    "            stevec += 1\n",
    "    return populacija\n"
   ]
  },
  {
   "cell_type": "code",
   "execution_count": 5,
   "metadata": {
    "collapsed": false
   },
   "outputs": [
   ],
   "source": [
    "def razporedi(maksimalna=None):\n",
    "    \"\"\"\n",
    "    Izracuna kriterij, po katerem vse elemente razporedimo in razporedi elemente populacije.\n",
    "    Navadno za populacijo uporabimo zacetna_populacijo(maksimalna).\n",
    "    \"\"\"\n",
    "    slovar = dict()\n",
    "    populacija = zacetna_populacija(maksimalna)\n",
    "    for element in populacija:\n",
    "        slovar[element] = neodvistnostno_stevilo(element)\n",
    "    razporejena_populacija = sorted(slovar.items(), key = operator.itemgetter(1))\n",
    "    nasa_populacija = []\n",
    "    for osebek in razporejena_populacija:\n",
    "        nasa_populacija.append(populacija[osebek[0]])\n",
    "    return nasa_populacija\n"
   ]
  },
  {
   "cell_type": "code",
   "execution_count": 6,
   "metadata": {
    "collapsed": false
   },
   "outputs": [
   ],
   "source": [
    "def testna_populacija(maksimalna):\n",
    "    \"\"\"\n",
    "    Za zacetni parameter izberemo zacetna_populacija(), ki nam bo vrnila\n",
    "    vse grafe zacetne velikosti.\n",
    "    Najprej moramo določiti, kolikšen del začetne populacije bomo testirali\n",
    "    V genetiki velja, da ostanejo zgolj najboljsi, zato bomo vzeli le najboljse,\n",
    "    torej tiste, z minimalnim neodvistnostnim številom.\n",
    "    \"\"\"\n",
    "    populacija = razporedi()\n",
    "    if len(populacija) > maksimalna:\n",
    "        testna_populacija = populacija[:maksimalna]\n",
    "    else:\n",
    "        testna_populacija = populacija\n",
    "    return testna_populacija\n"
   ]
  },
  {
   "cell_type": "code",
   "execution_count": 7,
   "metadata": {
    "collapsed": false
   },
   "outputs": [
   ],
   "source": [
    "def doda_povezavo(graf):\n",
    "    \"\"\"\n",
    "    Spremeni graf tako, da mu doda povezavo\n",
    "    \"\"\"\n",
    "    G = Graph(graf)\n",
    "    if G.vertices() == []:\n",
    "        return G\n",
    "    else:\n",
    "        vozlisca = graf.vertices()\n",
    "        vozlisce1 = G.random_vertex()\n",
    "        vozlisce2 = G.random_vertex()\n",
    "        if vozlisce1 != vozlisce2:\n",
    "            G.add_edge(vozlisce1, vozlisce2)\n",
    "        return G\n"
   ]
  },
  {
   "cell_type": "code",
   "execution_count": 8,
   "metadata": {
    "collapsed": false
   },
   "outputs": [
   ],
   "source": [
    "def odstrani_povezavo(graf):\n",
    "    \"\"\"\n",
    "    Odstrani nakljucno povezavo iz grafa;\n",
    "    Pazimo, da mora graf, ki ga dobimo, biti povezan.\n",
    "    \"\"\"\n",
    "    kopija = Graph(graf, immutable=True)\n",
    "    G = Graph(kopija)\n",
    "    if G.vertices() == []:\n",
    "        return G\n",
    "    else:\n",
    "        vozlisce1 = G.random_vertex()\n",
    "        vozlisce2 = G.random_vertex()\n",
    "        if vozlisce1 != vozlisce2:\n",
    "            G.delete_edge(vozlisce1, vozlisce2)\n",
    "            if G.is_connected():\n",
    "                return G\n",
    "            else:\n",
    "                G.add_edge(vozlisce1, vozlisce2)\n"
   ]
  },
  {
   "cell_type": "code",
   "execution_count": 9,
   "metadata": {
    "collapsed": false
   },
   "outputs": [
   ],
   "source": [
    "def mutacija_vozlisce(graf):\n",
    "    \"\"\"\n",
    "    Doda vozlisce in mu nato doda nekaj povezav nanj.\n",
    "    \"\"\"\n",
    "    graf = Graph(graf)\n",
    "    dolzina = len(graf.vertices())\n",
    "    graf.add_vertex()\n",
    "    stevilo = randint(0,dolzina)\n",
    "    vozlisca = graf.vertices()\n",
    "    dodaj_vozlisca = random.sample(vozlisca, stevilo)\n",
    "    for i in range(stevilo):\n",
    "        graf.add_edge(novo, dodaj_vozlisca[i])\n",
    "    return graf\n"
   ]
  },
  {
   "cell_type": "code",
   "execution_count": 10,
   "metadata": {
    "collapsed": false
   },
   "outputs": [
   ],
   "source": [
    "def odstrani_vozlisce(graf):\n",
    "    \"\"\"\n",
    "    Funkcija iz grafa odstrani vozlišče in vse povezave nanj.\n",
    "    \"\"\"\n",
    "    graf = Graph(graf)\n",
    "    if graf.vertices() == []:\n",
    "        return graf\n",
    "    else:\n",
    "        vozlisce1 = graf.random_vertex()\n",
    "        graf.delete_vertex(vozlisce1)\n",
    "        if graf.is_connected():\n",
    "            return graf\n"
   ]
  },
  {
   "cell_type": "code",
   "execution_count": 11,
   "metadata": {
    "collapsed": false
   },
   "outputs": [
   ],
   "source": [
    "def mutacija(graf):\n",
    "    \"\"\"\n",
    "    Na grafu lahko odstranimo, dodamo povezavo, dodamo, odstranimo vozlisce in vsako kombinacijo le teh.\n",
    "    \"\"\"\n",
    "    p = random.uniform(0,1)\n",
    "    if p <= 1/15:\n",
    "        odstrani_vozlisce(graf)\n",
    "    elif p > 1/15 and p <= 2/15:\n",
    "         mutacija_vozlisce(graf)\n",
    "    elif p > 2/15 and p <= 3/15:\n",
    "        odstrani_povezavo(graf)\n",
    "    elif p > 3/15 and p <= 4/15:\n",
    "        doda_povezavo(graf)\n",
    "    elif p > 4/15 and p <= 5/15:\n",
    "        sprememba = odstrani_vozlisce(graf)\n",
    "        mutacija_vozlisce(sprememba)\n",
    "    elif p > 5/15 and p <= 6/15:\n",
    "        sprememba = odstrani_vozlisce(graf)\n",
    "        odstrani_povezavo(sprememba)\n",
    "    elif p > 6/15 and p <= 7/15:\n",
    "        sprememba = odstrani_vozlisce(graf)\n",
    "        doda_povezavo(sprememba)\n",
    "    elif p > 7/15 and p <= 8/15:\n",
    "        sprememba = mutacija_vozlisce(graf)\n",
    "        odstrani_povezavo(sprememba)\n",
    "    elif p > 8/15 and p <= 9/15:\n",
    "        sprememba = mutacija_vozlisce(graf)\n",
    "        doda_povezavo(sprememba)\n",
    "    elif p > 9/15 and p <= 10/15:\n",
    "        sprememba = odstrani_povezavo(graf)\n",
    "        doda_povezavo(sprememba)\n",
    "    elif p > 10/15 and p <= 11/15:\n",
    "        sprememba = mutacija_vozlisce(graf)\n",
    "        sprememba2 = doda_povezavo(sprememba)\n",
    "        odstrani_povezavo(sprememba2)\n",
    "    elif p > 11/15 and p <= 12/15:\n",
    "        sprememba = mutacija_vozlisce(graf)\n",
    "        sprememba2 = doda_povezavo(sprememba)\n",
    "        odstrani_povezavo(sprememba2)\n",
    "    elif p > 12/15 and p <= 13/15:\n",
    "        sprememba = mutacija_vozlisce(graf)\n",
    "        sprememba2 = odstrani_vozlisce(sprememba)\n",
    "        odstrani_povezavo(sprememba2)\n",
    "    elif p > 13/15 and p <= 14/15:\n",
    "        sprememba = mutacija_vozlisce(graf)\n",
    "        sprememba2 = doda_povezavo(sprememba)\n",
    "        odstrani_vozlisce(sprememba2)\n",
    "    elif p > 14/15 and p <= 15/15:\n",
    "        sprememba = mutacija_vozlisce(graf)\n",
    "        sprememba2 = doda_povezavo(sprememba)\n",
    "        sprememba3 = odstrani_povezavo(sprememba2)\n",
    "        odstrani_vozlisce(sprememba3)\n"
   ]
  },
  {
   "cell_type": "code",
   "execution_count": 12,
   "metadata": {
    "collapsed": false
   },
   "outputs": [
   ],
   "source": [
    "def nova_populacija(populacija = None, verjetnost = 0.05):\n",
    "    \"\"\"\n",
    "    Vsak graf iz populacije z neko verjetnostjo spremenimo.\n",
    "    Za zacetku za populacijo uporabimo testna_populacija(maksimalna)\n",
    "    Ti spremenjeni grafi nam dajo novo populacijo.\n",
    "    \"\"\"\n",
    "    naslednja_generacija = []\n",
    "    for i in range(len(populacija)):\n",
    "        q = random.uniform(0,1)\n",
    "        r = random.uniform(0,1)\n",
    "        prob = q * r\n",
    "        if verjetnost < prob:\n",
    "            naslednja_generacija[i] = mutacija(populacija[i])\n",
    "        else:\n",
    "            naslednja_generacija[i] = populacija[i]\n",
    "    return naslednja_generacija\n"
   ]
  },
  {
   "cell_type": "code",
   "execution_count": 13,
   "metadata": {
    "collapsed": false
   },
   "outputs": [
   ],
   "source": [
    "def crossover(n, stars1, stars2):\n",
    "    \"\"\"\n",
    "    V nasem primeru je n stevilo vozlisc, na katerih se grafa krizata.\n",
    "    Nove povezave nam povedo, koliko in katere povezav bo imel graf.\n",
    "    \"\"\"\n",
    "    while True:\n",
    "        graf1 = stars1.random_subgraph(0.5)\n",
    "        graf2 = stars2.random_subgraph(0.5)\n",
    "        if len(graf1.vertices()) + len(graf2.vertices()) == n and len(graf1.vertices()) >= 1 and len(graf1.vertices()) < n and graf1.is_connected() and graf2.is_connected():\n",
    "            graf1.relabel()\n",
    "            graf2.relabel()\n",
    "            naslednik = graf1.disjoint_union(graf2)\n",
    "            nove_povezave = poisson(lambd = log(n/2))\n",
    "            for k in range(nove_povezave):\n",
    "                prvi = graf1.random_vertex()\n",
    "                drugi = graf2.random_vertex()\n",
    "                potomec.add_edge((0, prvi), (1, drugi))\n",
    "            naslednik.relabel()\n",
    "            break\n",
    "    return potomec\n"
   ]
  },
  {
   "cell_type": "code",
   "execution_count": 14,
   "metadata": {
    "collapsed": false
   },
   "outputs": [
   ],
   "source": [
    "def potomci(populacija = None, verjetnost = 0.05):\n",
    "    \"\"\"\n",
    "    Navadno za populacijo uporabimo nova_populacija(populacija = testna_populacija(maksimalna))\n",
    "    Funkcija nam vrne prejšnjo populacijo in premešano populacijo, združeno v eno.\n",
    "    \"\"\"\n",
    "    nova_populacija = populacija\n",
    "    stevilo_parjenj = poisson(t = len(populacija))\n",
    "    for k in range(stevilo_parjenj):\n",
    "        starsa = random.sample(populacija, k = 2)\n",
    "        nova_populacija.append(crossover(n, starsa[0], starsa[1]))\n",
    "    return nova_populacija\n"
   ]
  },
  {
   "cell_type": "code",
   "execution_count": 15,
   "metadata": {
    "collapsed": false
   },
   "outputs": [
   ],
   "source": [
    "def KoncniTestGA(konec,maksimalna):\n",
    "    \"\"\"\n",
    "    Konec pove, koliko generacij naj pogledamo.\n",
    "    Funkcija lahko vrne dve možnosti:\n",
    "                                     1. Najde nam izjemo, jo pokaže in tako ovržemo domnevo.\n",
    "                                     2. Izjeme sploh ne dobimo, in tako izjeme ne vrnemo.\n",
    "    \"\"\"\n",
    "    populacija = testna_populacija(maksimalna)\n",
    "    stevec = 1\n",
    "    while stevec <= konec:\n",
    "        populacija = potomci(populacija)\n",
    "        populacija = mutacija(populacija)\n",
    "        populacija = testna_populacija(populacija)\n",
    "        for i in range(len(populacija)):\n",
    "            G = populacija[i]\n",
    "            if neodvistnostno_stevilo(G) <= 1 + povprecna(G):\n",
    "                if G.hamiltonian_path() == None:\n",
    "                    p = G.plot()\n",
    "                    p.show()\n",
    "                    return \"Ovrgli smo domnevo\"\n",
    "\n",
    "        stevec += 1\n",
    "    return \"Domneva ni ovrzena.\""
   ]
  },
  {
   "cell_type": "code",
   "execution_count": 16,
   "metadata": {
    "collapsed": false,
    "scrolled": true
   },
   "outputs": [
    {
     "name": "stdout",
     "output_type": "stream",
     "text": [
      "Domneva ni ovrzena.\n"
     ]
    }
   ],
   "source": [
    "print(KoncniTestGA(1000000,1000000))"
   ]
  },
  {
   "cell_type": "markdown",
   "metadata": {
    "collapsed": false
   },
   "source": [
    "Zanima nas še, koliko časa porabi genetski algoritem za svoje izvajanje. Da to testiramo, bomo uporabili novo funkcijo."
   ]
  },
  {
   "cell_type": "code",
   "execution_count": 17,
   "metadata": {
    "collapsed": false
   },
   "outputs": [
   ],
   "source": [
    "import time\n",
    "def casovna_zahtevnost_konec(konec,maksimalna):\n",
    "    \"\"\"\n",
    "    Konec nam tu pove, za koliko primerov testiramo našo kodo; torej koliko podprimerov testiramo.\n",
    "    Maksimalna nam pove koliko naj bo velikost največje generacije.\n",
    "    \"\"\"\n",
    "    slovar = dict()\n",
    "    for i in range(konec):\n",
    "        zacetek = time.time()\n",
    "        KoncniTestGA(i, maksimalna)\n",
    "        konec = time.time()\n",
    "        cas = konec - zacetek\n",
    "        slovar[i] = cas\n",
    "    return slovar\n",
    "\n",
    "def meritev(konec,tekac):\n",
    "    zacetek = time.time()\n",
    "    KoncniTestGA(konec, tekac)\n",
    "    konec = time.time()\n",
    "    cas = konec - zacetek\n",
    "    return cas\n",
    "\n",
    "def casovna_zahtevnost_maksimalna(konec, maksimalna):\n",
    "    \"\"\"\n",
    "    Ravno obratna koda kot prej, spreminja se maksimalna velikost generacije.\n",
    "    \"\"\"\n",
    "    slovar = dict()\n",
    "    for tekac in range(maksimalna):\n",
    "        slovar[tekac] = meritev(konec,tekac)\n",
    "    return slovar\n"
   ]
  },
  {
   "cell_type": "code",
   "execution_count": 18,
   "metadata": {
    "collapsed": false
   },
   "outputs": [
    {
     "name": "stdout",
     "output_type": "stream",
     "text": [
      "{0: 0.00013685226440429688, 1: 0.0004901885986328125, 2: 0.00026488304138183594, 3: 0.001354217529296875, 4: 0.002768993377685547, 5: 0.0014290809631347656, 6: 0.0012290477752685547, 7: 0.0022649765014648438, 8: 0.0039060115814208984, 9: 0.0031061172485351562, 10: 0.002042055130004883, 11: 0.0031709671020507812, 12: 0.0029129981994628906, 13: 0.003949880599975586, 14: 0.004100799560546875, 15: 0.004556894302368164, 16: 0.0046350955963134766, 17: 0.0047380924224853516, 18: 0.004157066345214844, 19: 0.005515098571777344, 20: 0.005513906478881836, 21: 0.006200075149536133, 22: 0.0073969364166259766, 23: 0.006514072418212891, 24: 0.00746607780456543, 25: 0.00967717170715332, 26: 0.009093046188354492, 27: 0.0075991153717041016, 28: 0.010127067565917969, 29: 0.009113073348999023, 30: 0.011857032775878906, 31: 0.01417088508605957, 32: 0.011970043182373047, 33: 0.009392976760864258, 34: 0.02755904197692871, 35: 0.011816978454589844, 36: 0.012447834014892578, 37: 0.012157917022705078, 38: 0.01203298568725586, 39: 0.013946056365966797, 40: 0.013270139694213867, 41: 0.01881694793701172, 42: 0.01587700843811035, 43: 0.009772062301635742, 44: 0.012315034866333008, 45: 0.013072013854980469, 46: 0.011168956756591797, 47: 0.013939142227172852, 48: 0.013358831405639648, 49: 0.012367963790893555, 50: 0.010019063949584961, 51: 0.009232044219970703, 52: 0.009051084518432617, 53: 0.009807109832763672, 54: 0.009673833847045898, 55: 0.04471302032470703, 56: 0.01856708526611328, 57: 0.019059181213378906, 58: 0.017119884490966797, 59: 0.018065929412841797, 60: 0.011034965515136719, 61: 0.011800050735473633, 62: 0.012444019317626953, 63: 0.018790006637573242, 64: 0.01176905632019043, 65: 0.012298107147216797, 66: 0.013978958129882812, 67: 0.01597285270690918, 68: 0.030871152877807617, 69: 0.013903141021728516, 70: 0.011703014373779297, 71: 0.01218104362487793, 72: 0.013067007064819336, 73: 0.011781930923461914, 74: 0.03468799591064453, 75: 0.013509035110473633, 76: 0.0137939453125, 77: 0.020354032516479492, 78: 0.024492979049682617, 79: 0.02025604248046875, 80: 0.02362990379333496, 81: 0.013300895690917969, 82: 0.015084981918334961, 83: 0.015221118927001953, 84: 0.03160905838012695, 85: 0.015965938568115234, 86: 0.017103910446166992, 87: 0.016129016876220703, 88: 0.01591777801513672, 89: 0.019302845001220703, 90: 0.019674062728881836, 91: 0.020253896713256836, 92: 0.017974853515625, 93: 0.016490936279296875, 94: 0.018127918243408203, 95: 0.017692089080810547, 96: 0.022433042526245117, 97: 0.01706695556640625, 98: 0.016106843948364258, 99: 0.01730203628540039}\n"
     ]
    }
   ],
   "source": [
    "print(casovna_zahtevnost_konec(100,100))"
   ]
  },
  {
   "cell_type": "code",
   "execution_count": 19,
   "metadata": {
    "collapsed": false
   },
   "outputs": [
    {
     "name": "stdout",
     "output_type": "stream",
     "text": [
      "{0: 0.035572052001953125, 1: 0.029037952423095703, 2: 0.022157907485961914, 3: 0.03971385955810547, 4: 0.019137859344482422, 5: 0.019315004348754883, 6: 0.04639387130737305, 7: 0.0334010124206543, 8: 0.024051189422607422, 9: 0.01825094223022461, 10: 0.033865928649902344, 11: 0.03362703323364258, 12: 0.017744064331054688, 13: 0.01782083511352539, 14: 0.02399897575378418, 15: 0.021171092987060547, 16: 0.020788192749023438, 17: 0.02163100242614746, 18: 0.036483049392700195, 19: 0.027059078216552734, 20: 0.026443958282470703, 21: 0.01751399040222168, 22: 0.021124839782714844, 23: 0.02968907356262207, 24: 0.03391098976135254, 25: 0.04514503479003906, 26: 0.030401945114135742, 27: 0.030948877334594727, 28: 0.03445005416870117, 29: 0.03532600402832031, 30: 0.0319821834564209, 31: 0.017791032791137695, 32: 0.020229101181030273, 33: 0.026646852493286133, 34: 0.03312110900878906, 35: 0.02176380157470703, 36: 0.023691892623901367, 37: 0.0299680233001709, 38: 0.03383207321166992, 39: 0.03235793113708496, 40: 0.036012887954711914, 41: 0.033782958984375, 42: 0.03559303283691406, 43: 0.038825035095214844, 44: 0.03421807289123535, 45: 0.03937482833862305, 46: 0.0355839729309082, 47: 0.03498482704162598, 48: 0.03605914115905762, 49: 0.035691022872924805, 50: 0.03685307502746582, 51: 0.035017967224121094, 52: 0.05256509780883789, 53: 0.0429530143737793, 54: 0.041603803634643555, 55: 0.029978036880493164, 56: 0.03083014488220215, 57: 0.03163790702819824, 58: 0.0348968505859375, 59: 0.03145289421081543, 60: 0.029967069625854492, 61: 0.032972097396850586, 62: 0.032219886779785156, 63: 0.03202486038208008, 64: 0.0317540168762207, 65: 0.0339360237121582, 66: 0.03279304504394531, 67: 0.033239126205444336, 68: 0.029809951782226562, 69: 0.03246593475341797, 70: 0.03293204307556152, 71: 0.033586978912353516, 72: 0.03287196159362793, 73: 0.03646492958068848, 74: 0.03892087936401367, 75: 0.03238701820373535, 76: 0.03165912628173828, 77: 0.030855894088745117, 78: 0.029132843017578125, 79: 0.01948094367980957, 80: 0.019778966903686523, 81: 0.015605926513671875, 82: 0.017766952514648438, 83: 0.018491029739379883, 84: 0.018175125122070312, 85: 0.02594304084777832, 86: 0.02264690399169922, 87: 0.017508983612060547, 88: 0.018374919891357422, 89: 0.02330183982849121, 90: 0.018971920013427734, 91: 0.015810012817382812, 92: 0.018445968627929688, 93: 0.016928911209106445, 94: 0.016870975494384766, 95: 0.017277956008911133, 96: 0.017557144165039062, 97: 0.01739215850830078, 98: 0.01784992218017578, 99: 0.018338918685913086}\n"
     ]
    }
   ],
   "source": [
    "print(casovna_zahtevnost_maksimalna(100,100))"
   ]
  },
  {
   "cell_type": "code",
   "execution_count": 0,
   "metadata": {
    "collapsed": false,
    "scrolled": true
   },
   "outputs": [
   ],
   "source": [
   ]
  },
  {
   "cell_type": "code",
   "execution_count": 0,
   "metadata": {
    "collapsed": false
   },
   "outputs": [
   ],
   "source": [
   ]
  }
 ],
 "metadata": {
  "kernelspec": {
   "display_name": "SageMath (stable)",
   "language": "sagemath",
   "name": "sagemath"
  },
  "language_info": {
   "codemirror_mode": {
    "name": "ipython",
    "version": 2
   },
   "file_extension": ".py",
   "mimetype": "text/x-python",
   "name": "python",
   "nbconvert_exporter": "python",
   "pygments_lexer": "ipython2",
   "version": "2.7.15"
  }
 },
 "nbformat": 4,
 "nbformat_minor": 0
}